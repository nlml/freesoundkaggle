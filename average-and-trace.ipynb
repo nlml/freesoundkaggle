{
 "cells": [
  {
   "cell_type": "code",
   "execution_count": 1,
   "metadata": {},
   "outputs": [
    {
     "name": "stdout",
     "output_type": "stream",
     "text": [
      "Populating the interactive namespace from numpy and matplotlib\n"
     ]
    }
   ],
   "source": [
    "%load_ext autoreload\n",
    "%autoreload 2\n",
    "%pylab inline"
   ]
  },
  {
   "cell_type": "code",
   "execution_count": 2,
   "metadata": {},
   "outputs": [],
   "source": [
    "from freesound.archis.large import Classifier\n",
    "from pathlib import Path\n",
    "import os\n",
    "import torch\n",
    "from fastprogress import progress_bar\n",
    "import numpy as np\n",
    "rng = np.random.RandomState(1)"
   ]
  },
  {
   "cell_type": "code",
   "execution_count": 3,
   "metadata": {},
   "outputs": [],
   "source": [
    "def good(i, rng):\n",
    "    for j in rng:\n",
    "        if str(j) in i:\n",
    "            return True\n",
    "    return False"
   ]
  },
  {
   "cell_type": "code",
   "execution_count": 4,
   "metadata": {},
   "outputs": [
    {
     "name": "stdout",
     "output_type": "stream",
     "text": [
      "4 ['ckpts/student/0a2c02b3d906cef8/weight_epoch170.pt'\n",
      " 'ckpts/student/0a2c02b3d906cef8/weight_epoch171.pt'\n",
      " 'ckpts/student/0a2c02b3d906cef8/weight_epoch173.pt'\n",
      " 'ckpts/student/0a2c02b3d906cef8/weight_epoch172.pt']\n"
     ]
    },
    {
     "data": {
      "text/html": [
       "\n",
       "    <div>\n",
       "        <style>\n",
       "            /* Turns off some styling */\n",
       "            progress {\n",
       "                /* gets rid of default border in Firefox and Opera. */\n",
       "                border: none;\n",
       "                /* Needs to be in here for Safari polyfill so background images work as expected. */\n",
       "                background-size: auto;\n",
       "            }\n",
       "            .progress-bar-interrupted, .progress-bar-interrupted::-webkit-progress-bar {\n",
       "                background: #F44336;\n",
       "            }\n",
       "        </style>\n",
       "      <progress value='3' class='' max='3', style='width:300px; height:20px; vertical-align: middle;'></progress>\n",
       "      100.00% [3/3 00:00<00:00]\n",
       "    </div>\n",
       "    "
      ],
      "text/plain": [
       "<IPython.core.display.HTML object>"
      ]
     },
     "metadata": {},
     "output_type": "display_data"
    },
    {
     "name": "stdout",
     "output_type": "stream",
     "text": [
      "174 170\n",
      "4 ['ckpts/student/e14eb8b559752c4e/weight_epoch113.pt'\n",
      " 'ckpts/student/e14eb8b559752c4e/weight_epoch114.pt'\n",
      " 'ckpts/student/e14eb8b559752c4e/weight_epoch112.pt'\n",
      " 'ckpts/student/e14eb8b559752c4e/weight_epoch111.pt']\n"
     ]
    },
    {
     "data": {
      "text/html": [
       "\n",
       "    <div>\n",
       "        <style>\n",
       "            /* Turns off some styling */\n",
       "            progress {\n",
       "                /* gets rid of default border in Firefox and Opera. */\n",
       "                border: none;\n",
       "                /* Needs to be in here for Safari polyfill so background images work as expected. */\n",
       "                background-size: auto;\n",
       "            }\n",
       "            .progress-bar-interrupted, .progress-bar-interrupted::-webkit-progress-bar {\n",
       "                background: #F44336;\n",
       "            }\n",
       "        </style>\n",
       "      <progress value='3' class='' max='3', style='width:300px; height:20px; vertical-align: middle;'></progress>\n",
       "      100.00% [3/3 00:00<00:00]\n",
       "    </div>\n",
       "    "
      ],
      "text/plain": [
       "<IPython.core.display.HTML object>"
      ]
     },
     "metadata": {},
     "output_type": "display_data"
    },
    {
     "name": "stdout",
     "output_type": "stream",
     "text": [
      "127 111\n",
      "5 ['ckpts/student/0a2c02b3d906cef8/weight_epoch293.pt'\n",
      " 'ckpts/student/0a2c02b3d906cef8/weight_epoch294.pt'\n",
      " 'ckpts/student/0a2c02b3d906cef8/weight_epoch291.pt'\n",
      " 'ckpts/student/0a2c02b3d906cef8/weight_epoch292.pt'\n",
      " 'ckpts/student/0a2c02b3d906cef8/weight_epoch290.pt']\n"
     ]
    },
    {
     "data": {
      "text/html": [
       "\n",
       "    <div>\n",
       "        <style>\n",
       "            /* Turns off some styling */\n",
       "            progress {\n",
       "                /* gets rid of default border in Firefox and Opera. */\n",
       "                border: none;\n",
       "                /* Needs to be in here for Safari polyfill so background images work as expected. */\n",
       "                background-size: auto;\n",
       "            }\n",
       "            .progress-bar-interrupted, .progress-bar-interrupted::-webkit-progress-bar {\n",
       "                background: #F44336;\n",
       "            }\n",
       "        </style>\n",
       "      <progress value='4' class='' max='4', style='width:300px; height:20px; vertical-align: middle;'></progress>\n",
       "      100.00% [4/4 00:00<00:00]\n",
       "    </div>\n",
       "    "
      ],
      "text/plain": [
       "<IPython.core.display.HTML object>"
      ]
     },
     "metadata": {},
     "output_type": "display_data"
    },
    {
     "name": "stdout",
     "output_type": "stream",
     "text": [
      "300 290\n",
      "5 ['ckpts/student/0a2c02b3d906cef8/weight_epoch194.pt'\n",
      " 'ckpts/student/0a2c02b3d906cef8/weight_epoch192.pt'\n",
      " 'ckpts/student/0a2c02b3d906cef8/weight_epoch190.pt'\n",
      " 'ckpts/student/0a2c02b3d906cef8/weight_epoch191.pt'\n",
      " 'ckpts/student/0a2c02b3d906cef8/weight_epoch193.pt']\n"
     ]
    },
    {
     "data": {
      "text/html": [
       "\n",
       "    <div>\n",
       "        <style>\n",
       "            /* Turns off some styling */\n",
       "            progress {\n",
       "                /* gets rid of default border in Firefox and Opera. */\n",
       "                border: none;\n",
       "                /* Needs to be in here for Safari polyfill so background images work as expected. */\n",
       "                background-size: auto;\n",
       "            }\n",
       "            .progress-bar-interrupted, .progress-bar-interrupted::-webkit-progress-bar {\n",
       "                background: #F44336;\n",
       "            }\n",
       "        </style>\n",
       "      <progress value='4' class='' max='4', style='width:300px; height:20px; vertical-align: middle;'></progress>\n",
       "      100.00% [4/4 00:00<00:00]\n",
       "    </div>\n",
       "    "
      ],
      "text/plain": [
       "<IPython.core.display.HTML object>"
      ]
     },
     "metadata": {},
     "output_type": "display_data"
    },
    {
     "name": "stdout",
     "output_type": "stream",
     "text": [
      "199 190\n",
      "5 ['ckpts/student/e14eb8b559752c4e/weight_epoch194.pt'\n",
      " 'ckpts/student/e14eb8b559752c4e/weight_epoch192.pt'\n",
      " 'ckpts/student/e14eb8b559752c4e/weight_epoch190.pt'\n",
      " 'ckpts/student/e14eb8b559752c4e/weight_epoch191.pt'\n",
      " 'ckpts/student/e14eb8b559752c4e/weight_epoch193.pt']\n"
     ]
    },
    {
     "data": {
      "text/html": [
       "\n",
       "    <div>\n",
       "        <style>\n",
       "            /* Turns off some styling */\n",
       "            progress {\n",
       "                /* gets rid of default border in Firefox and Opera. */\n",
       "                border: none;\n",
       "                /* Needs to be in here for Safari polyfill so background images work as expected. */\n",
       "                background-size: auto;\n",
       "            }\n",
       "            .progress-bar-interrupted, .progress-bar-interrupted::-webkit-progress-bar {\n",
       "                background: #F44336;\n",
       "            }\n",
       "        </style>\n",
       "      <progress value='4' class='' max='4', style='width:300px; height:20px; vertical-align: middle;'></progress>\n",
       "      100.00% [4/4 00:00<00:00]\n",
       "    </div>\n",
       "    "
      ],
      "text/plain": [
       "<IPython.core.display.HTML object>"
      ]
     },
     "metadata": {},
     "output_type": "display_data"
    },
    {
     "name": "stdout",
     "output_type": "stream",
     "text": [
      "205 190\n",
      "3 ['ckpts/student/e14eb8b559752c4e/weight_epoch272.pt'\n",
      " 'ckpts/student/e14eb8b559752c4e/weight_epoch274.pt'\n",
      " 'ckpts/student/e14eb8b559752c4e/weight_epoch273.pt']\n"
     ]
    },
    {
     "data": {
      "text/html": [
       "\n",
       "    <div>\n",
       "        <style>\n",
       "            /* Turns off some styling */\n",
       "            progress {\n",
       "                /* gets rid of default border in Firefox and Opera. */\n",
       "                border: none;\n",
       "                /* Needs to be in here for Safari polyfill so background images work as expected. */\n",
       "                background-size: auto;\n",
       "            }\n",
       "            .progress-bar-interrupted, .progress-bar-interrupted::-webkit-progress-bar {\n",
       "                background: #F44336;\n",
       "            }\n",
       "        </style>\n",
       "      <progress value='2' class='' max='2', style='width:300px; height:20px; vertical-align: middle;'></progress>\n",
       "      100.00% [2/2 00:00<00:00]\n",
       "    </div>\n",
       "    "
      ],
      "text/plain": [
       "<IPython.core.display.HTML object>"
      ]
     },
     "metadata": {},
     "output_type": "display_data"
    },
    {
     "name": "stdout",
     "output_type": "stream",
     "text": [
      "290 272\n",
      "6 ['ckpts/student/e14eb8b559752c4e/weight_epoch133.pt'\n",
      " 'ckpts/student/e14eb8b559752c4e/weight_epoch130.pt'\n",
      " 'ckpts/student/e14eb8b559752c4e/weight_epoch114.pt'\n",
      " 'ckpts/student/e14eb8b559752c4e/weight_epoch134.pt'\n",
      " 'ckpts/student/e14eb8b559752c4e/weight_epoch132.pt']\n"
     ]
    },
    {
     "data": {
      "text/html": [
       "\n",
       "    <div>\n",
       "        <style>\n",
       "            /* Turns off some styling */\n",
       "            progress {\n",
       "                /* gets rid of default border in Firefox and Opera. */\n",
       "                border: none;\n",
       "                /* Needs to be in here for Safari polyfill so background images work as expected. */\n",
       "                background-size: auto;\n",
       "            }\n",
       "            .progress-bar-interrupted, .progress-bar-interrupted::-webkit-progress-bar {\n",
       "                background: #F44336;\n",
       "            }\n",
       "        </style>\n",
       "      <progress value='5' class='' max='5', style='width:300px; height:20px; vertical-align: middle;'></progress>\n",
       "      100.00% [5/5 00:00<00:00]\n",
       "    </div>\n",
       "    "
      ],
      "text/plain": [
       "<IPython.core.display.HTML object>"
      ]
     },
     "metadata": {},
     "output_type": "display_data"
    },
    {
     "name": "stdout",
     "output_type": "stream",
     "text": [
      "141 114\n",
      "6 ['ckpts/student/0a2c02b3d906cef8/weight_epoch272.pt'\n",
      " 'ckpts/student/0a2c02b3d906cef8/weight_epoch291.pt'\n",
      " 'ckpts/student/0a2c02b3d906cef8/weight_epoch271.pt'\n",
      " 'ckpts/student/0a2c02b3d906cef8/weight_epoch274.pt'\n",
      " 'ckpts/student/0a2c02b3d906cef8/weight_epoch290.pt']\n"
     ]
    },
    {
     "data": {
      "text/html": [
       "\n",
       "    <div>\n",
       "        <style>\n",
       "            /* Turns off some styling */\n",
       "            progress {\n",
       "                /* gets rid of default border in Firefox and Opera. */\n",
       "                border: none;\n",
       "                /* Needs to be in here for Safari polyfill so background images work as expected. */\n",
       "                background-size: auto;\n",
       "            }\n",
       "            .progress-bar-interrupted, .progress-bar-interrupted::-webkit-progress-bar {\n",
       "                background: #F44336;\n",
       "            }\n",
       "        </style>\n",
       "      <progress value='5' class='' max='5', style='width:300px; height:20px; vertical-align: middle;'></progress>\n",
       "      100.00% [5/5 00:00<00:00]\n",
       "    </div>\n",
       "    "
      ],
      "text/plain": [
       "<IPython.core.display.HTML object>"
      ]
     },
     "metadata": {},
     "output_type": "display_data"
    },
    {
     "name": "stdout",
     "output_type": "stream",
     "text": [
      "292 271\n",
      "4 ['ckpts/student/0a2c02b3d906cef8/weight_epoch232.pt'\n",
      " 'ckpts/student/0a2c02b3d906cef8/weight_epoch230.pt'\n",
      " 'ckpts/student/0a2c02b3d906cef8/weight_epoch233.pt'\n",
      " 'ckpts/student/0a2c02b3d906cef8/weight_epoch231.pt']\n"
     ]
    },
    {
     "data": {
      "text/html": [
       "\n",
       "    <div>\n",
       "        <style>\n",
       "            /* Turns off some styling */\n",
       "            progress {\n",
       "                /* gets rid of default border in Firefox and Opera. */\n",
       "                border: none;\n",
       "                /* Needs to be in here for Safari polyfill so background images work as expected. */\n",
       "                background-size: auto;\n",
       "            }\n",
       "            .progress-bar-interrupted, .progress-bar-interrupted::-webkit-progress-bar {\n",
       "                background: #F44336;\n",
       "            }\n",
       "        </style>\n",
       "      <progress value='3' class='' max='3', style='width:300px; height:20px; vertical-align: middle;'></progress>\n",
       "      100.00% [3/3 00:00<00:00]\n",
       "    </div>\n",
       "    "
      ],
      "text/plain": [
       "<IPython.core.display.HTML object>"
      ]
     },
     "metadata": {},
     "output_type": "display_data"
    },
    {
     "name": "stdout",
     "output_type": "stream",
     "text": [
      "234 230\n",
      "8 ['ckpts/student/0a2c02b3d906cef8/weight_epoch133.pt'\n",
      " 'ckpts/student/0a2c02b3d906cef8/weight_epoch152.pt'\n",
      " 'ckpts/student/0a2c02b3d906cef8/weight_epoch151.pt'\n",
      " 'ckpts/student/0a2c02b3d906cef8/weight_epoch134.pt'\n",
      " 'ckpts/student/0a2c02b3d906cef8/weight_epoch150.pt']\n"
     ]
    },
    {
     "data": {
      "text/html": [
       "\n",
       "    <div>\n",
       "        <style>\n",
       "            /* Turns off some styling */\n",
       "            progress {\n",
       "                /* gets rid of default border in Firefox and Opera. */\n",
       "                border: none;\n",
       "                /* Needs to be in here for Safari polyfill so background images work as expected. */\n",
       "                background-size: auto;\n",
       "            }\n",
       "            .progress-bar-interrupted, .progress-bar-interrupted::-webkit-progress-bar {\n",
       "                background: #F44336;\n",
       "            }\n",
       "        </style>\n",
       "      <progress value='7' class='' max='7', style='width:300px; height:20px; vertical-align: middle;'></progress>\n",
       "      100.00% [7/7 00:01<00:00]\n",
       "    </div>\n",
       "    "
      ],
      "text/plain": [
       "<IPython.core.display.HTML object>"
      ]
     },
     "metadata": {},
     "output_type": "display_data"
    },
    {
     "name": "stdout",
     "output_type": "stream",
     "text": [
      "158 132\n",
      "4 ['ckpts/student/0a2c02b3d906cef8/weight_epoch113.pt'\n",
      " 'ckpts/student/0a2c02b3d906cef8/weight_epoch114.pt'\n",
      " 'ckpts/student/0a2c02b3d906cef8/weight_epoch112.pt'\n",
      " 'ckpts/student/0a2c02b3d906cef8/weight_epoch111.pt']\n"
     ]
    },
    {
     "data": {
      "text/html": [
       "\n",
       "    <div>\n",
       "        <style>\n",
       "            /* Turns off some styling */\n",
       "            progress {\n",
       "                /* gets rid of default border in Firefox and Opera. */\n",
       "                border: none;\n",
       "                /* Needs to be in here for Safari polyfill so background images work as expected. */\n",
       "                background-size: auto;\n",
       "            }\n",
       "            .progress-bar-interrupted, .progress-bar-interrupted::-webkit-progress-bar {\n",
       "                background: #F44336;\n",
       "            }\n",
       "        </style>\n",
       "      <progress value='3' class='' max='3', style='width:300px; height:20px; vertical-align: middle;'></progress>\n",
       "      100.00% [3/3 00:00<00:00]\n",
       "    </div>\n",
       "    "
      ],
      "text/plain": [
       "<IPython.core.display.HTML object>"
      ]
     },
     "metadata": {},
     "output_type": "display_data"
    },
    {
     "name": "stdout",
     "output_type": "stream",
     "text": [
      "115 111\n",
      "3 ['ckpts/student/e14eb8b559752c4e/weight_epoch174.pt'\n",
      " 'ckpts/student/e14eb8b559752c4e/weight_epoch173.pt'\n",
      " 'ckpts/student/e14eb8b559752c4e/weight_epoch172.pt']\n"
     ]
    },
    {
     "data": {
      "text/html": [
       "\n",
       "    <div>\n",
       "        <style>\n",
       "            /* Turns off some styling */\n",
       "            progress {\n",
       "                /* gets rid of default border in Firefox and Opera. */\n",
       "                border: none;\n",
       "                /* Needs to be in here for Safari polyfill so background images work as expected. */\n",
       "                background-size: auto;\n",
       "            }\n",
       "            .progress-bar-interrupted, .progress-bar-interrupted::-webkit-progress-bar {\n",
       "                background: #F44336;\n",
       "            }\n",
       "        </style>\n",
       "      <progress value='2' class='' max='2', style='width:300px; height:20px; vertical-align: middle;'></progress>\n",
       "      100.00% [2/2 00:00<00:00]\n",
       "    </div>\n",
       "    "
      ],
      "text/plain": [
       "<IPython.core.display.HTML object>"
      ]
     },
     "metadata": {},
     "output_type": "display_data"
    },
    {
     "name": "stdout",
     "output_type": "stream",
     "text": [
      "184 172\n",
      "7 ['ckpts/student/e14eb8b559752c4e/weight_epoch170.pt'\n",
      " 'ckpts/student/e14eb8b559752c4e/weight_epoch171.pt'\n",
      " 'ckpts/student/e14eb8b559752c4e/weight_epoch174.pt'\n",
      " 'ckpts/student/e14eb8b559752c4e/weight_epoch173.pt'\n",
      " 'ckpts/student/e14eb8b559752c4e/weight_epoch153.pt']\n"
     ]
    },
    {
     "data": {
      "text/html": [
       "\n",
       "    <div>\n",
       "        <style>\n",
       "            /* Turns off some styling */\n",
       "            progress {\n",
       "                /* gets rid of default border in Firefox and Opera. */\n",
       "                border: none;\n",
       "                /* Needs to be in here for Safari polyfill so background images work as expected. */\n",
       "                background-size: auto;\n",
       "            }\n",
       "            .progress-bar-interrupted, .progress-bar-interrupted::-webkit-progress-bar {\n",
       "                background: #F44336;\n",
       "            }\n",
       "        </style>\n",
       "      <progress value='6' class='' max='6', style='width:300px; height:20px; vertical-align: middle;'></progress>\n",
       "      100.00% [6/6 00:00<00:00]\n",
       "    </div>\n",
       "    "
      ],
      "text/plain": [
       "<IPython.core.display.HTML object>"
      ]
     },
     "metadata": {},
     "output_type": "display_data"
    },
    {
     "name": "stdout",
     "output_type": "stream",
     "text": [
      "176 153\n",
      "8 ['ckpts/student/0a2c02b3d906cef8/weight_epoch293.pt'\n",
      " 'ckpts/student/0a2c02b3d906cef8/weight_epoch272.pt'\n",
      " 'ckpts/student/0a2c02b3d906cef8/weight_epoch294.pt'\n",
      " 'ckpts/student/0a2c02b3d906cef8/weight_epoch291.pt'\n",
      " 'ckpts/student/0a2c02b3d906cef8/weight_epoch292.pt']\n"
     ]
    },
    {
     "data": {
      "text/html": [
       "\n",
       "    <div>\n",
       "        <style>\n",
       "            /* Turns off some styling */\n",
       "            progress {\n",
       "                /* gets rid of default border in Firefox and Opera. */\n",
       "                border: none;\n",
       "                /* Needs to be in here for Safari polyfill so background images work as expected. */\n",
       "                background-size: auto;\n",
       "            }\n",
       "            .progress-bar-interrupted, .progress-bar-interrupted::-webkit-progress-bar {\n",
       "                background: #F44336;\n",
       "            }\n",
       "        </style>\n",
       "      <progress value='7' class='' max='7', style='width:300px; height:20px; vertical-align: middle;'></progress>\n",
       "      100.00% [7/7 00:00<00:00]\n",
       "    </div>\n",
       "    "
      ],
      "text/plain": [
       "<IPython.core.display.HTML object>"
      ]
     },
     "metadata": {},
     "output_type": "display_data"
    },
    {
     "name": "stdout",
     "output_type": "stream",
     "text": [
      "301 272\n",
      "5 ['ckpts/student/e14eb8b559752c4e/weight_epoch232.pt'\n",
      " 'ckpts/student/e14eb8b559752c4e/weight_epoch234.pt'\n",
      " 'ckpts/student/e14eb8b559752c4e/weight_epoch230.pt'\n",
      " 'ckpts/student/e14eb8b559752c4e/weight_epoch233.pt'\n",
      " 'ckpts/student/e14eb8b559752c4e/weight_epoch231.pt']\n"
     ]
    },
    {
     "data": {
      "text/html": [
       "\n",
       "    <div>\n",
       "        <style>\n",
       "            /* Turns off some styling */\n",
       "            progress {\n",
       "                /* gets rid of default border in Firefox and Opera. */\n",
       "                border: none;\n",
       "                /* Needs to be in here for Safari polyfill so background images work as expected. */\n",
       "                background-size: auto;\n",
       "            }\n",
       "            .progress-bar-interrupted, .progress-bar-interrupted::-webkit-progress-bar {\n",
       "                background: #F44336;\n",
       "            }\n",
       "        </style>\n",
       "      <progress value='4' class='' max='4', style='width:300px; height:20px; vertical-align: middle;'></progress>\n",
       "      100.00% [4/4 00:00<00:00]\n",
       "    </div>\n",
       "    "
      ],
      "text/plain": [
       "<IPython.core.display.HTML object>"
      ]
     },
     "metadata": {},
     "output_type": "display_data"
    },
    {
     "name": "stdout",
     "output_type": "stream",
     "text": [
      "241 230\n",
      "9 ['ckpts/student/0a2c02b3d906cef8/weight_epoch133.pt'\n",
      " 'ckpts/student/0a2c02b3d906cef8/weight_epoch152.pt'\n",
      " 'ckpts/student/0a2c02b3d906cef8/weight_epoch151.pt'\n",
      " 'ckpts/student/0a2c02b3d906cef8/weight_epoch134.pt'\n",
      " 'ckpts/student/0a2c02b3d906cef8/weight_epoch150.pt']\n"
     ]
    },
    {
     "data": {
      "text/html": [
       "\n",
       "    <div>\n",
       "        <style>\n",
       "            /* Turns off some styling */\n",
       "            progress {\n",
       "                /* gets rid of default border in Firefox and Opera. */\n",
       "                border: none;\n",
       "                /* Needs to be in here for Safari polyfill so background images work as expected. */\n",
       "                background-size: auto;\n",
       "            }\n",
       "            .progress-bar-interrupted, .progress-bar-interrupted::-webkit-progress-bar {\n",
       "                background: #F44336;\n",
       "            }\n",
       "        </style>\n",
       "      <progress value='8' class='' max='8', style='width:300px; height:20px; vertical-align: middle;'></progress>\n",
       "      100.00% [8/8 00:00<00:00]\n",
       "    </div>\n",
       "    "
      ],
      "text/plain": [
       "<IPython.core.display.HTML object>"
      ]
     },
     "metadata": {},
     "output_type": "display_data"
    },
    {
     "name": "stdout",
     "output_type": "stream",
     "text": [
      "156 131\n",
      "9 ['ckpts/student/e14eb8b559752c4e/weight_epoch232.pt'\n",
      " 'ckpts/student/e14eb8b559752c4e/weight_epoch234.pt'\n",
      " 'ckpts/student/e14eb8b559752c4e/weight_epoch230.pt'\n",
      " 'ckpts/student/e14eb8b559752c4e/weight_epoch214.pt'\n",
      " 'ckpts/student/e14eb8b559752c4e/weight_epoch212.pt']\n"
     ]
    },
    {
     "data": {
      "text/html": [
       "\n",
       "    <div>\n",
       "        <style>\n",
       "            /* Turns off some styling */\n",
       "            progress {\n",
       "                /* gets rid of default border in Firefox and Opera. */\n",
       "                border: none;\n",
       "                /* Needs to be in here for Safari polyfill so background images work as expected. */\n",
       "                background-size: auto;\n",
       "            }\n",
       "            .progress-bar-interrupted, .progress-bar-interrupted::-webkit-progress-bar {\n",
       "                background: #F44336;\n",
       "            }\n",
       "        </style>\n",
       "      <progress value='8' class='' max='8', style='width:300px; height:20px; vertical-align: middle;'></progress>\n",
       "      100.00% [8/8 00:00<00:00]\n",
       "    </div>\n",
       "    "
      ],
      "text/plain": [
       "<IPython.core.display.HTML object>"
      ]
     },
     "metadata": {},
     "output_type": "display_data"
    },
    {
     "name": "stdout",
     "output_type": "stream",
     "text": [
      "235 211\n",
      "8 ['ckpts/student/e14eb8b559752c4e/weight_epoch293.pt'\n",
      " 'ckpts/student/e14eb8b559752c4e/weight_epoch294.pt'\n",
      " 'ckpts/student/e14eb8b559752c4e/weight_epoch291.pt'\n",
      " 'ckpts/student/e14eb8b559752c4e/weight_epoch312.pt'\n",
      " 'ckpts/student/e14eb8b559752c4e/weight_epoch292.pt']\n"
     ]
    },
    {
     "data": {
      "text/html": [
       "\n",
       "    <div>\n",
       "        <style>\n",
       "            /* Turns off some styling */\n",
       "            progress {\n",
       "                /* gets rid of default border in Firefox and Opera. */\n",
       "                border: none;\n",
       "                /* Needs to be in here for Safari polyfill so background images work as expected. */\n",
       "                background-size: auto;\n",
       "            }\n",
       "            .progress-bar-interrupted, .progress-bar-interrupted::-webkit-progress-bar {\n",
       "                background: #F44336;\n",
       "            }\n",
       "        </style>\n",
       "      <progress value='7' class='' max='7', style='width:300px; height:20px; vertical-align: middle;'></progress>\n",
       "      100.00% [7/7 00:00<00:00]\n",
       "    </div>\n",
       "    "
      ],
      "text/plain": [
       "<IPython.core.display.HTML object>"
      ]
     },
     "metadata": {},
     "output_type": "display_data"
    },
    {
     "name": "stdout",
     "output_type": "stream",
     "text": [
      "313 290\n",
      "4 ['ckpts/student/0a2c02b3d906cef8/weight_epoch174.pt'\n",
      " 'ckpts/student/0a2c02b3d906cef8/weight_epoch190.pt'\n",
      " 'ckpts/student/0a2c02b3d906cef8/weight_epoch173.pt'\n",
      " 'ckpts/student/0a2c02b3d906cef8/weight_epoch191.pt']\n"
     ]
    },
    {
     "data": {
      "text/html": [
       "\n",
       "    <div>\n",
       "        <style>\n",
       "            /* Turns off some styling */\n",
       "            progress {\n",
       "                /* gets rid of default border in Firefox and Opera. */\n",
       "                border: none;\n",
       "                /* Needs to be in here for Safari polyfill so background images work as expected. */\n",
       "                background-size: auto;\n",
       "            }\n",
       "            .progress-bar-interrupted, .progress-bar-interrupted::-webkit-progress-bar {\n",
       "                background: #F44336;\n",
       "            }\n",
       "        </style>\n",
       "      <progress value='3' class='' max='3', style='width:300px; height:20px; vertical-align: middle;'></progress>\n",
       "      100.00% [3/3 00:00<00:00]\n",
       "    </div>\n",
       "    "
      ],
      "text/plain": [
       "<IPython.core.display.HTML object>"
      ]
     },
     "metadata": {},
     "output_type": "display_data"
    },
    {
     "name": "stdout",
     "output_type": "stream",
     "text": [
      "192 173\n",
      "6 ['ckpts/student/e14eb8b559752c4e/weight_epoch133.pt'\n",
      " 'ckpts/student/e14eb8b559752c4e/weight_epoch130.pt'\n",
      " 'ckpts/student/e14eb8b559752c4e/weight_epoch114.pt'\n",
      " 'ckpts/student/e14eb8b559752c4e/weight_epoch134.pt'\n",
      " 'ckpts/student/e14eb8b559752c4e/weight_epoch132.pt']\n"
     ]
    },
    {
     "data": {
      "text/html": [
       "\n",
       "    <div>\n",
       "        <style>\n",
       "            /* Turns off some styling */\n",
       "            progress {\n",
       "                /* gets rid of default border in Firefox and Opera. */\n",
       "                border: none;\n",
       "                /* Needs to be in here for Safari polyfill so background images work as expected. */\n",
       "                background-size: auto;\n",
       "            }\n",
       "            .progress-bar-interrupted, .progress-bar-interrupted::-webkit-progress-bar {\n",
       "                background: #F44336;\n",
       "            }\n",
       "        </style>\n",
       "      <progress value='5' class='' max='5', style='width:300px; height:20px; vertical-align: middle;'></progress>\n",
       "      100.00% [5/5 00:00<00:00]\n",
       "    </div>\n",
       "    "
      ],
      "text/plain": [
       "<IPython.core.display.HTML object>"
      ]
     },
     "metadata": {},
     "output_type": "display_data"
    },
    {
     "name": "stdout",
     "output_type": "stream",
     "text": [
      "143 114\n",
      "6 ['ckpts/student/0a2c02b3d906cef8/weight_epoch234.pt'\n",
      " 'ckpts/student/0a2c02b3d906cef8/weight_epoch250.pt'\n",
      " 'ckpts/student/0a2c02b3d906cef8/weight_epoch251.pt'\n",
      " 'ckpts/student/0a2c02b3d906cef8/weight_epoch253.pt'\n",
      " 'ckpts/student/0a2c02b3d906cef8/weight_epoch252.pt']\n"
     ]
    },
    {
     "data": {
      "text/html": [
       "\n",
       "    <div>\n",
       "        <style>\n",
       "            /* Turns off some styling */\n",
       "            progress {\n",
       "                /* gets rid of default border in Firefox and Opera. */\n",
       "                border: none;\n",
       "                /* Needs to be in here for Safari polyfill so background images work as expected. */\n",
       "                background-size: auto;\n",
       "            }\n",
       "            .progress-bar-interrupted, .progress-bar-interrupted::-webkit-progress-bar {\n",
       "                background: #F44336;\n",
       "            }\n",
       "        </style>\n",
       "      <progress value='5' class='' max='5', style='width:300px; height:20px; vertical-align: middle;'></progress>\n",
       "      100.00% [5/5 00:01<00:00]\n",
       "    </div>\n",
       "    "
      ],
      "text/plain": [
       "<IPython.core.display.HTML object>"
      ]
     },
     "metadata": {},
     "output_type": "display_data"
    },
    {
     "name": "stdout",
     "output_type": "stream",
     "text": [
      "261 234\n",
      "9 ['ckpts/student/0a2c02b3d906cef8/weight_epoch232.pt'\n",
      " 'ckpts/student/0a2c02b3d906cef8/weight_epoch234.pt'\n",
      " 'ckpts/student/0a2c02b3d906cef8/weight_epoch230.pt'\n",
      " 'ckpts/student/0a2c02b3d906cef8/weight_epoch214.pt'\n",
      " 'ckpts/student/0a2c02b3d906cef8/weight_epoch212.pt']\n"
     ]
    },
    {
     "data": {
      "text/html": [
       "\n",
       "    <div>\n",
       "        <style>\n",
       "            /* Turns off some styling */\n",
       "            progress {\n",
       "                /* gets rid of default border in Firefox and Opera. */\n",
       "                border: none;\n",
       "                /* Needs to be in here for Safari polyfill so background images work as expected. */\n",
       "                background-size: auto;\n",
       "            }\n",
       "            .progress-bar-interrupted, .progress-bar-interrupted::-webkit-progress-bar {\n",
       "                background: #F44336;\n",
       "            }\n",
       "        </style>\n",
       "      <progress value='8' class='' max='8', style='width:300px; height:20px; vertical-align: middle;'></progress>\n",
       "      100.00% [8/8 00:01<00:00]\n",
       "    </div>\n",
       "    "
      ],
      "text/plain": [
       "<IPython.core.display.HTML object>"
      ]
     },
     "metadata": {},
     "output_type": "display_data"
    },
    {
     "name": "stdout",
     "output_type": "stream",
     "text": [
      "240 211\n",
      "3 ['ckpts/student/e14eb8b559752c4e/weight_epoch194.pt'\n",
      " 'ckpts/student/e14eb8b559752c4e/weight_epoch192.pt'\n",
      " 'ckpts/student/e14eb8b559752c4e/weight_epoch193.pt']\n"
     ]
    },
    {
     "data": {
      "text/html": [
       "\n",
       "    <div>\n",
       "        <style>\n",
       "            /* Turns off some styling */\n",
       "            progress {\n",
       "                /* gets rid of default border in Firefox and Opera. */\n",
       "                border: none;\n",
       "                /* Needs to be in here for Safari polyfill so background images work as expected. */\n",
       "                background-size: auto;\n",
       "            }\n",
       "            .progress-bar-interrupted, .progress-bar-interrupted::-webkit-progress-bar {\n",
       "                background: #F44336;\n",
       "            }\n",
       "        </style>\n",
       "      <progress value='2' class='' max='2', style='width:300px; height:20px; vertical-align: middle;'></progress>\n",
       "      100.00% [2/2 00:00<00:00]\n",
       "    </div>\n",
       "    "
      ],
      "text/plain": [
       "<IPython.core.display.HTML object>"
      ]
     },
     "metadata": {},
     "output_type": "display_data"
    },
    {
     "name": "stdout",
     "output_type": "stream",
     "text": [
      "205 192\n",
      "6 ['ckpts/student/0a2c02b3d906cef8/weight_epoch272.pt'\n",
      " 'ckpts/student/0a2c02b3d906cef8/weight_epoch270.pt'\n",
      " 'ckpts/student/0a2c02b3d906cef8/weight_epoch271.pt'\n",
      " 'ckpts/student/0a2c02b3d906cef8/weight_epoch274.pt'\n",
      " 'ckpts/student/0a2c02b3d906cef8/weight_epoch254.pt']\n"
     ]
    },
    {
     "data": {
      "text/html": [
       "\n",
       "    <div>\n",
       "        <style>\n",
       "            /* Turns off some styling */\n",
       "            progress {\n",
       "                /* gets rid of default border in Firefox and Opera. */\n",
       "                border: none;\n",
       "                /* Needs to be in here for Safari polyfill so background images work as expected. */\n",
       "                background-size: auto;\n",
       "            }\n",
       "            .progress-bar-interrupted, .progress-bar-interrupted::-webkit-progress-bar {\n",
       "                background: #F44336;\n",
       "            }\n",
       "        </style>\n",
       "      <progress value='5' class='' max='5', style='width:300px; height:20px; vertical-align: middle;'></progress>\n",
       "      100.00% [5/5 00:00<00:00]\n",
       "    </div>\n",
       "    "
      ],
      "text/plain": [
       "<IPython.core.display.HTML object>"
      ]
     },
     "metadata": {},
     "output_type": "display_data"
    },
    {
     "name": "stdout",
     "output_type": "stream",
     "text": [
      "281 254\n",
      "4 ['ckpts/student/0a2c02b3d906cef8/weight_epoch251.pt'\n",
      " 'ckpts/student/0a2c02b3d906cef8/weight_epoch253.pt'\n",
      " 'ckpts/student/0a2c02b3d906cef8/weight_epoch252.pt'\n",
      " 'ckpts/student/0a2c02b3d906cef8/weight_epoch254.pt']\n"
     ]
    },
    {
     "data": {
      "text/html": [
       "\n",
       "    <div>\n",
       "        <style>\n",
       "            /* Turns off some styling */\n",
       "            progress {\n",
       "                /* gets rid of default border in Firefox and Opera. */\n",
       "                border: none;\n",
       "                /* Needs to be in here for Safari polyfill so background images work as expected. */\n",
       "                background-size: auto;\n",
       "            }\n",
       "            .progress-bar-interrupted, .progress-bar-interrupted::-webkit-progress-bar {\n",
       "                background: #F44336;\n",
       "            }\n",
       "        </style>\n",
       "      <progress value='3' class='' max='3', style='width:300px; height:20px; vertical-align: middle;'></progress>\n",
       "      100.00% [3/3 00:00<00:00]\n",
       "    </div>\n",
       "    "
      ],
      "text/plain": [
       "<IPython.core.display.HTML object>"
      ]
     },
     "metadata": {},
     "output_type": "display_data"
    },
    {
     "name": "stdout",
     "output_type": "stream",
     "text": [
      "260 251\n",
      "3 ['ckpts/student/e14eb8b559752c4e/weight_epoch232.pt'\n",
      " 'ckpts/student/e14eb8b559752c4e/weight_epoch234.pt'\n",
      " 'ckpts/student/e14eb8b559752c4e/weight_epoch233.pt']\n"
     ]
    },
    {
     "data": {
      "text/html": [
       "\n",
       "    <div>\n",
       "        <style>\n",
       "            /* Turns off some styling */\n",
       "            progress {\n",
       "                /* gets rid of default border in Firefox and Opera. */\n",
       "                border: none;\n",
       "                /* Needs to be in here for Safari polyfill so background images work as expected. */\n",
       "                background-size: auto;\n",
       "            }\n",
       "            .progress-bar-interrupted, .progress-bar-interrupted::-webkit-progress-bar {\n",
       "                background: #F44336;\n",
       "            }\n",
       "        </style>\n",
       "      <progress value='2' class='' max='2', style='width:300px; height:20px; vertical-align: middle;'></progress>\n",
       "      100.00% [2/2 00:00<00:00]\n",
       "    </div>\n",
       "    "
      ],
      "text/plain": [
       "<IPython.core.display.HTML object>"
      ]
     },
     "metadata": {},
     "output_type": "display_data"
    },
    {
     "name": "stdout",
     "output_type": "stream",
     "text": [
      "238 232\n",
      "4 ['ckpts/student/e14eb8b559752c4e/weight_epoch194.pt'\n",
      " 'ckpts/student/e14eb8b559752c4e/weight_epoch211.pt'\n",
      " 'ckpts/student/e14eb8b559752c4e/weight_epoch210.pt'\n",
      " 'ckpts/student/e14eb8b559752c4e/weight_epoch193.pt']\n"
     ]
    },
    {
     "data": {
      "text/html": [
       "\n",
       "    <div>\n",
       "        <style>\n",
       "            /* Turns off some styling */\n",
       "            progress {\n",
       "                /* gets rid of default border in Firefox and Opera. */\n",
       "                border: none;\n",
       "                /* Needs to be in here for Safari polyfill so background images work as expected. */\n",
       "                background-size: auto;\n",
       "            }\n",
       "            .progress-bar-interrupted, .progress-bar-interrupted::-webkit-progress-bar {\n",
       "                background: #F44336;\n",
       "            }\n",
       "        </style>\n",
       "      <progress value='3' class='' max='3', style='width:300px; height:20px; vertical-align: middle;'></progress>\n",
       "      100.00% [3/3 00:00<00:00]\n",
       "    </div>\n",
       "    "
      ],
      "text/plain": [
       "<IPython.core.display.HTML object>"
      ]
     },
     "metadata": {},
     "output_type": "display_data"
    },
    {
     "name": "stdout",
     "output_type": "stream",
     "text": [
      "212 193\n",
      "7 ['ckpts/student/0a2c02b3d906cef8/weight_epoch194.pt'\n",
      " 'ckpts/student/0a2c02b3d906cef8/weight_epoch214.pt'\n",
      " 'ckpts/student/0a2c02b3d906cef8/weight_epoch212.pt'\n",
      " 'ckpts/student/0a2c02b3d906cef8/weight_epoch211.pt'\n",
      " 'ckpts/student/0a2c02b3d906cef8/weight_epoch210.pt']\n"
     ]
    },
    {
     "data": {
      "text/html": [
       "\n",
       "    <div>\n",
       "        <style>\n",
       "            /* Turns off some styling */\n",
       "            progress {\n",
       "                /* gets rid of default border in Firefox and Opera. */\n",
       "                border: none;\n",
       "                /* Needs to be in here for Safari polyfill so background images work as expected. */\n",
       "                background-size: auto;\n",
       "            }\n",
       "            .progress-bar-interrupted, .progress-bar-interrupted::-webkit-progress-bar {\n",
       "                background: #F44336;\n",
       "            }\n",
       "        </style>\n",
       "      <progress value='6' class='' max='6', style='width:300px; height:20px; vertical-align: middle;'></progress>\n",
       "      100.00% [6/6 00:00<00:00]\n",
       "    </div>\n",
       "    "
      ],
      "text/plain": [
       "<IPython.core.display.HTML object>"
      ]
     },
     "metadata": {},
     "output_type": "display_data"
    },
    {
     "name": "stdout",
     "output_type": "stream",
     "text": [
      "222 193\n",
      "4 ['ckpts/student/e14eb8b559752c4e/weight_epoch293.pt'\n",
      " 'ckpts/student/e14eb8b559752c4e/weight_epoch294.pt'\n",
      " 'ckpts/student/e14eb8b559752c4e/weight_epoch291.pt'\n",
      " 'ckpts/student/e14eb8b559752c4e/weight_epoch292.pt']\n"
     ]
    },
    {
     "data": {
      "text/html": [
       "\n",
       "    <div>\n",
       "        <style>\n",
       "            /* Turns off some styling */\n",
       "            progress {\n",
       "                /* gets rid of default border in Firefox and Opera. */\n",
       "                border: none;\n",
       "                /* Needs to be in here for Safari polyfill so background images work as expected. */\n",
       "                background-size: auto;\n",
       "            }\n",
       "            .progress-bar-interrupted, .progress-bar-interrupted::-webkit-progress-bar {\n",
       "                background: #F44336;\n",
       "            }\n",
       "        </style>\n",
       "      <progress value='3' class='' max='3', style='width:300px; height:20px; vertical-align: middle;'></progress>\n",
       "      100.00% [3/3 00:00<00:00]\n",
       "    </div>\n",
       "    "
      ],
      "text/plain": [
       "<IPython.core.display.HTML object>"
      ]
     },
     "metadata": {},
     "output_type": "display_data"
    },
    {
     "name": "stdout",
     "output_type": "stream",
     "text": [
      "295 291\n",
      "7 ['ckpts/student/e14eb8b559752c4e/weight_epoch194.pt'\n",
      " 'ckpts/student/e14eb8b559752c4e/weight_epoch214.pt'\n",
      " 'ckpts/student/e14eb8b559752c4e/weight_epoch212.pt'\n",
      " 'ckpts/student/e14eb8b559752c4e/weight_epoch211.pt'\n",
      " 'ckpts/student/e14eb8b559752c4e/weight_epoch210.pt']\n"
     ]
    },
    {
     "data": {
      "text/html": [
       "\n",
       "    <div>\n",
       "        <style>\n",
       "            /* Turns off some styling */\n",
       "            progress {\n",
       "                /* gets rid of default border in Firefox and Opera. */\n",
       "                border: none;\n",
       "                /* Needs to be in here for Safari polyfill so background images work as expected. */\n",
       "                background-size: auto;\n",
       "            }\n",
       "            .progress-bar-interrupted, .progress-bar-interrupted::-webkit-progress-bar {\n",
       "                background: #F44336;\n",
       "            }\n",
       "        </style>\n",
       "      <progress value='6' class='' max='6', style='width:300px; height:20px; vertical-align: middle;'></progress>\n",
       "      100.00% [6/6 00:00<00:00]\n",
       "    </div>\n",
       "    "
      ],
      "text/plain": [
       "<IPython.core.display.HTML object>"
      ]
     },
     "metadata": {},
     "output_type": "display_data"
    },
    {
     "name": "stdout",
     "output_type": "stream",
     "text": [
      "220 193\n"
     ]
    }
   ],
   "source": [
    "def add_state_dict(a, b):\n",
    "    for k in a:\n",
    "        a[k] += b[k]\n",
    "    return a\n",
    "\n",
    "def load_state_dict_multi(ckpts):\n",
    "    ckpts = np.array(ckpts)\n",
    "    print(len(ckpts), ckpts[:5])\n",
    "    num_ckpts = len(ckpts)\n",
    "    state_dict_out = torch.load(ckpts[0])\n",
    "    for ckpt in progress_bar(ckpts[1:]):\n",
    "        state_dict_this = torch.load(ckpt)\n",
    "        state_dict_out = add_state_dict(state_dict_out, state_dict_this)\n",
    "    for k in state_dict_out:\n",
    "        state_dict_out[k] /= num_ckpts\n",
    "    return dict([(k.replace('module.', ''), state_dict_out[k]) for k in state_dict_out.keys()])\n",
    "\n",
    "def make_trace(ckptfiles, i_trace):\n",
    "    model = Classifier(num_classes=80)\n",
    "    model.load_state_dict(load_state_dict_multi(ckptfiles))\n",
    "    model.eval()\n",
    "    sample_input = torch.ones([1, 3, 128, 128])\n",
    "    traced = torch.jit.trace(model, sample_input)\n",
    "    if not os.path.exists('ckpts/traces'):\n",
    "        os.makedirs('ckpts/traces')\n",
    "    torch.jit.save(traced, 'ckpts/traces/trace{}.pt'.format(i_trace))\n",
    "\n",
    "# After restart + skip cell above\n",
    "\n",
    "subs = ['student/e14eb8b559752c4e/', 'student/0a2c02b3d906cef8/']\n",
    "savedirs = [Path('ckpts') / i for i in subs]\n",
    "ckptfiles = []\n",
    "NUM_TRACES = 30\n",
    "i_trace = 0\n",
    "while i_trace < NUM_TRACES:\n",
    "    savedir = rng.choice(savedirs)\n",
    "    this = [str(savedir / j) for j in os.listdir(savedir) if j.endswith('.pt')]\n",
    "    available = sorted([int(i.split('weight_epoch')[1].split('.pt')[0]) for i in this])\n",
    "    available = [i for i in available if i < 300]\n",
    "    start = rng.choice(available)\n",
    "    end = start + rng.randint(4, 30)\n",
    "    paths = [i for i in this if good(i, range(start, end))]\n",
    "    if len(paths) > 2:\n",
    "        try:\n",
    "            make_trace(paths, i_trace)\n",
    "            i_trace += 1\n",
    "            print(end, start)\n",
    "        except:\n",
    "            pass"
   ]
  },
  {
   "cell_type": "code",
   "execution_count": 5,
   "metadata": {},
   "outputs": [
    {
     "data": {
      "text/plain": [
       "1"
      ]
     },
     "execution_count": 5,
     "metadata": {},
     "output_type": "execute_result"
    }
   ],
   "source": [
    "1"
   ]
  }
 ],
 "metadata": {
  "kernelspec": {
   "display_name": "p36'\n'",
   "language": "python",
   "name": "p36"
  },
  "language_info": {
   "codemirror_mode": {
    "name": "ipython",
    "version": 3
   },
   "file_extension": ".py",
   "mimetype": "text/x-python",
   "name": "python",
   "nbconvert_exporter": "python",
   "pygments_lexer": "ipython3",
   "version": "3.6.8"
  }
 },
 "nbformat": 4,
 "nbformat_minor": 2
}
